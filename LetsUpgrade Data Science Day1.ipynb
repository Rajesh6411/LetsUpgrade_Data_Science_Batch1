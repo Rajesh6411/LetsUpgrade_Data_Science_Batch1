{
 "cells": [
  {
   "cell_type": "code",
   "execution_count": 49,
   "metadata": {},
   "outputs": [
    {
     "name": "stdout",
     "output_type": "stream",
     "text": [
      "Given the following jumbled word, OBANWRI guess the correct English word.\n",
      "A. RANIBOW\n",
      "B. RAINBOW\n",
      "C. BOWRANI\n",
      "D. ROBWANI\n",
      "Please Enter your option\n",
      "A\n",
      "Sorry your are wrong\n"
     ]
    }
   ],
   "source": [
    "print(\"Given the following jumbled word, OBANWRI guess the correct English word.\"\n",
    "\"\\nA. RANIBOW\"\n",
    "\"\\nB. RAINBOW\"\n",
    "\"\\nC. BOWRANI\"\n",
    "\"\\nD. ROBWANI\")\n",
    "\n",
    "A = \"RANIBOW\"\n",
    "B = \"RAINBOW\"\n",
    "C = \"BOWRANI\"\n",
    "D = \"ROBWANI\"\n",
    "\n",
    "print(\"Please Enter your option\")\n",
    "ans = input()\n",
    "\n",
    "if ans == \"A\":\n",
    "    print(\"Sorry your are wrong\")\n",
    "elif ans == \"B\":\n",
    "    print(\"Congratulations, Your option is Right\")\n",
    "elif ans == \"C\":\n",
    "    print(\"Sorry your are wrong\")\n",
    "elif ans == \"D\":\n",
    "    print(\"Sorry your are wrong\")\n",
    "else:\n",
    "    print(\"Please Choose above option\")"
   ]
  },
  {
   "cell_type": "code",
   "execution_count": 51,
   "metadata": {},
   "outputs": [
    {
     "name": "stdout",
     "output_type": "stream",
     "text": [
      "LETS UPGRADE\n"
     ]
    }
   ],
   "source": [
    "print(\"LETS UPGRADE\")"
   ]
  },
  {
   "cell_type": "code",
   "execution_count": 56,
   "metadata": {},
   "outputs": [
    {
     "name": "stdout",
     "output_type": "stream",
     "text": [
      "20\n",
      "20\n",
      "Neither\n"
     ]
    }
   ],
   "source": [
    "a = int(input())\n",
    "b = int(input())\n",
    "\n",
    "if a>b:\n",
    "    print(\"Profit\")\n",
    "elif a<b:\n",
    "    print(\"Loss\")\n",
    "else:\n",
    "    print(\"Neither\")"
   ]
  },
  {
   "cell_type": "code",
   "execution_count": 58,
   "metadata": {},
   "outputs": [
    {
     "name": "stdout",
     "output_type": "stream",
     "text": [
      "20\n",
      "1600\n"
     ]
    }
   ],
   "source": [
    "a = int(input())\n",
    "\n",
    "b = a * 80\n",
    "\n",
    "print(b)"
   ]
  },
  {
   "cell_type": "code",
   "execution_count": null,
   "metadata": {},
   "outputs": [],
   "source": []
  }
 ],
 "metadata": {
  "kernelspec": {
   "display_name": "Python 3",
   "language": "python",
   "name": "python3"
  },
  "language_info": {
   "codemirror_mode": {
    "name": "ipython",
    "version": 3
   },
   "file_extension": ".py",
   "mimetype": "text/x-python",
   "name": "python",
   "nbconvert_exporter": "python",
   "pygments_lexer": "ipython3",
   "version": "3.8.3"
  }
 },
 "nbformat": 4,
 "nbformat_minor": 4
}
